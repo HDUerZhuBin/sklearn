{
 "nbformat": 4,
 "nbformat_minor": 2,
 "metadata": {
  "language_info": {
   "name": "python",
   "codemirror_mode": {
    "name": "ipython",
    "version": 3
   },
   "version": "3.7.4"
  },
  "orig_nbformat": 2,
  "file_extension": ".py",
  "mimetype": "text/x-python",
  "name": "python",
  "npconvert_exporter": "python",
  "pygments_lexer": "ipython3",
  "version": 3
 },
 "cells": [
  {
   "cell_type": "code",
   "execution_count": 9,
   "metadata": {},
   "outputs": [
    {
     "name": "stdout",
     "output_type": "stream",
     "text": "Automatically created module for IPython interactive environment\n"
    }
   ],
   "source": [
    "print(__doc__)"
   ]
  },
  {
   "cell_type": "code",
   "execution_count": 10,
   "metadata": {},
   "outputs": [],
   "source": [
    "data,labels = samples_generator.make_classification(\n",
    "    n_features=20,\n",
    "    n_informative=3,\n",
    "    n_redundant=0,\n",
    "    n_classes=4,\n",
    "    n_clusters_per_class=2\n",
    ")"
   ]
  },
  {
   "cell_type": "code",
   "execution_count": 15,
   "metadata": {},
   "outputs": [],
   "source": [
    "train_data,test_data,train_labels,test_labels = train_test_split(data,\n",
    "                                                                 labels,\n",
    "                                                                 random_state=2019)"
   ]
  },
  {
   "cell_type": "code",
   "execution_count": 16,
   "metadata": {},
   "outputs": [
    {
     "data": {
      "text/plain": "((75, 20), (25, 20), (75,), (25,))"
     },
     "execution_count": 16,
     "metadata": {},
     "output_type": "execute_result"
    }
   ],
   "source": [
    "(train_data.shape,test_data.shape,train_labels.shape,test_labels.shape)"
   ]
  },
  {
   "cell_type": "code",
   "execution_count": 19,
   "metadata": {},
   "outputs": [],
   "source": [
    "anova_filter = SelectKBest(f_regression,k=3)\n",
    "clf = svm.LinearSVC()"
   ]
  },
  {
   "cell_type": "code",
   "execution_count": 20,
   "metadata": {},
   "outputs": [],
   "source": [
    "anova_svm = make_pipeline(anova_filter,clf)"
   ]
  },
  {
   "cell_type": "code",
   "execution_count": 21,
   "metadata": {},
   "outputs": [
    {
     "data": {
      "text/plain": "Pipeline(memory=None,\n         steps=[('selectkbest',\n                 SelectKBest(k=3,\n                             score_func=<function f_regression at 0x7f58b7c53d40>)),\n                ('linearsvc',\n                 LinearSVC(C=1.0, class_weight=None, dual=True,\n                           fit_intercept=True, intercept_scaling=1,\n                           loss='squared_hinge', max_iter=1000,\n                           multi_class='ovr', penalty='l2', random_state=None,\n                           tol=0.0001, verbose=0))],\n         verbose=False)"
     },
     "execution_count": 21,
     "metadata": {},
     "output_type": "execute_result"
    }
   ],
   "source": [
    "anova_svm.fit(train_data,train_labels)"
   ]
  },
  {
   "cell_type": "code",
   "execution_count": 22,
   "metadata": {},
   "outputs": [],
   "source": [
    "y_pred = anova_svm.predict(test_data)"
   ]
  },
  {
   "cell_type": "code",
   "execution_count": 24,
   "metadata": {},
   "outputs": [
    {
     "name": "stdout",
     "output_type": "stream",
     "text": "precision    recall  f1-score   support\n\n           0       1.00      0.38      0.55         8\n           1       0.29      1.00      0.44         2\n           2       0.30      0.50      0.37         6\n           3       0.40      0.22      0.29         9\n\n    accuracy                           0.40        25\n   macro avg       0.50      0.52      0.41        25\nweighted avg       0.56      0.40      0.40        25\n\n"
    }
   ],
   "source": [
    "print(classification_report(test_labels,y_pred))"
   ]
  },
  {
   "cell_type": "code",
   "execution_count": 28,
   "metadata": {},
   "outputs": [],
   "source": [
    "coef = anova_svm[:-1].inverse_transform(anova_svm[\"linearsvc\"].coef_)"
   ]
  },
  {
   "cell_type": "code",
   "execution_count": 29,
   "metadata": {},
   "outputs": [
    {
     "name": "stdout",
     "output_type": "stream",
     "text": "[[ 0.          0.          0.          0.          0.          0.\n   0.          0.          0.         -0.07339267 -0.29844169  0.\n   0.          0.          0.05531911  0.          0.          0.\n   0.          0.        ]\n [ 0.          0.          0.          0.          0.          0.\n   0.          0.          0.          0.14148147 -0.29261896  0.\n   0.          0.         -0.23906194  0.          0.          0.\n   0.          0.        ]\n [ 0.          0.          0.          0.          0.          0.\n   0.          0.          0.         -0.23803544  0.52155007  0.\n   0.          0.          0.02904252  0.          0.          0.\n   0.          0.        ]\n [ 0.          0.          0.          0.          0.          0.\n   0.          0.          0.          0.18730184  0.29255246  0.\n   0.          0.          0.23425172  0.          0.          0.\n   0.          0.        ]]\n"
    }
   ],
   "source": [
    "print(coef)"
   ]
  },
  {
   "cell_type": "code",
   "execution_count": 8,
   "metadata": {},
   "outputs": [],
   "source": [
    "# load the model\n",
    "from sklearn import svm\n",
    "# load the dataset\n",
    "from sklearn.datasets import samples_generator\n",
    "# feature engineer\n",
    "from sklearn.feature_selection import SelectKBest,f_regression\n",
    "\n",
    "# load the pipeline model\n",
    "from sklearn.pipeline import make_pipeline\n",
    "\n",
    "from sklearn.model_selection import train_test_split\n",
    "from sklearn.metrics import classification_report\n",
    "\n",
    "import numpy as np"
   ]
  }
 ]
}