{
 "cells": [
  {
   "cell_type": "code",
   "execution_count": 1,
   "metadata": {},
   "outputs": [
    {
     "name": "stdout",
     "output_type": "stream",
     "text": [
      "Automatically created module for IPython interactive environment\n"
     ]
    }
   ],
   "source": [
    "print(__doc__)"
   ]
  },
  {
   "cell_type": "code",
   "execution_count": 2,
   "metadata": {},
   "outputs": [],
   "source": [
    "import numpy as np\n",
    "import matplotlib.pyplot as plt"
   ]
  },
  {
   "cell_type": "code",
   "execution_count": 3,
   "metadata": {},
   "outputs": [],
   "source": [
    "from sklearn import datasets\n",
    "from sklearn.linear_model import LogisticRegression\n",
    "from sklearn.preprocessing import StandardScaler\n",
    "\n",
    "from sklearn.model_selection import train_test_split"
   ]
  },
  {
   "cell_type": "code",
   "execution_count": 4,
   "metadata": {},
   "outputs": [],
   "source": [
    "digits = datasets.load_digits()"
   ]
  },
  {
   "cell_type": "code",
   "execution_count": 5,
   "metadata": {},
   "outputs": [],
   "source": [
    "data,labels = digits.data,digits.target\n",
    "\n",
    "labels = (labels>4).astype(np.int)"
   ]
  },
  {
   "cell_type": "code",
   "execution_count": 6,
   "metadata": {},
   "outputs": [],
   "source": [
    "test_size = 0.25\n",
    "random_state = 2019\n",
    "train_data,test_data,train_labels,test_labels = train_test_split(data,\n",
    "                                                                labels,\n",
    "                                                                test_size = test_size,\n",
    "                                                                random_state = random_state)"
   ]
  },
  {
   "cell_type": "code",
   "execution_count": 7,
   "metadata": {},
   "outputs": [],
   "source": [
    "std = StandardScaler()\n",
    "train_data = std.fit(train_data).transform(train_data)\n",
    "test_data = std.transform(test_data)"
   ]
  },
  {
   "cell_type": "code",
   "execution_count": 8,
   "metadata": {},
   "outputs": [
    {
     "data": {
      "image/png": "[encoded data removed]",
      "text/plain": [
       "<Figure size 432x288 with 9 Axes>"
      ]
     },
     "metadata": {
      "needs_background": "light"
     },
     "output_type": "display_data"
    }
   ],
   "source": [
    "l1_ratio = 0.5\n",
    "\n",
    "fig,axes = plt.subplots(3,3)"
   ]
  },
  {
   "cell_type": "code",
   "execution_count": 9,
   "metadata": {},
   "outputs": [
    {
     "name": "stdout",
     "output_type": "stream",
     "text": [
      "C=1.00\n",
      "sparsity with l1 penalty:               7.81\n",
      "sparsity with elastic-net penalty:      4.69\n",
      "sparsity with l2 penalty:               4.69\n",
      "score with l1 penalty:                  0.89\n",
      "score with elastic-net penalty:         0.89\n",
      "score with l2 penalty:                  0.89\n",
      "C=0.10\n",
      "sparsity with l1 penalty:               35.94\n",
      "sparsity with elastic-net penalty:      15.62\n",
      "sparsity with l2 penalty:               4.69\n",
      "score with l1 penalty:                  0.88\n",
      "score with elastic-net penalty:         0.88\n",
      "score with l2 penalty:                  0.88\n",
      "C=0.01\n",
      "sparsity with l1 penalty:               84.38\n",
      "sparsity with elastic-net penalty:      78.12\n",
      "sparsity with l2 penalty:               4.69\n",
      "score with l1 penalty:                  0.85\n",
      "score with elastic-net penalty:         0.85\n",
      "score with l2 penalty:                  0.87\n"
     ]
    }
   ],
   "source": [
    "for i ,(C,axes_row) in enumerate(zip((1,0.1,0.01),axes)):\n",
    "    #三种不同惩罚项的模型搭建     \n",
    "    clf_l1_lr = LogisticRegression(C=C,penalty=\"l1\",tol=0.01,solver=\"saga\")\n",
    "    clf_l2_lr = LogisticRegression(C=C,penalty=\"l2\",tol=0.01,solver=\"saga\")\n",
    "    clf_en_lr = LogisticRegression(C=C,penalty=\"elasticnet\",tol=0.01,l1_ratio=l1_ratio,\n",
    "                                  solver=\"saga\")\n",
    "    \n",
    "    #三种模型的训练     \n",
    "    clf_l1_lr.fit(train_data,train_labels)\n",
    "    clf_l2_lr.fit(train_data,train_labels)\n",
    "    clf_en_lr.fit(train_data,train_labels)\n",
    "    \n",
    "    #三种模型训练好后的模型系数     \n",
    "    coef_l1_lr = clf_l1_lr.coef_.ravel()\n",
    "    coef_l2_lr = clf_l2_lr.coef_.ravel()\n",
    "    coef_en_lr = clf_en_lr.coef_.ravel()\n",
    "    \n",
    "    #对三种模型的系数的稀疏性的计算     \n",
    "    sparsity_l1_lr = np.mean(coef_l1_lr==0)*100\n",
    "    sparsity_l2_lr = np.mean(coef_l2_lr==0)*100\n",
    "    sparsity_en_lr = np.mean(coef_en_lr==0)*100\n",
    "    \n",
    "    print(\"C=%.2f\"%C)\n",
    "    print(\"{:<40}{:0.2f}\".format(\"sparsity with l1 penalty:\",sparsity_l1_lr))\n",
    "    print(\"{:<40}{:0.2f}\".format(\"sparsity with elastic-net penalty:\",\n",
    "                                sparsity_en_lr))\n",
    "    print(\"{:<40}{:0.2f}\".format(\"sparsity with l2 penalty:\",\n",
    "                                sparsity_l2_lr))\n",
    "    \n",
    "    print(\"{:<40}{:0.2f}\".format(\"score with l1 penalty:\",\n",
    "                                clf_l1_lr.score(test_data,test_labels)))\n",
    "    print(\"{:<40}{:0.2f}\".format(\"score with elastic-net penalty:\",\n",
    "                                clf_en_lr.score(test_data,test_labels)))\n",
    "    print(\"{:<40}{:0.2f}\".format(\"score with l2 penalty:\",\n",
    "                                clf_l2_lr.score(test_data,test_labels)))\n",
    "    \n",
    "    \n",
    "    if i==0:\n",
    "        axes_row[0].set_title(\"l1 penalty\")\n",
    "        axes_row[1].set_title(\"elastic-net\\nl1_ratio = %s\"%l1_ratio)\n",
    "        axes_row[2].set_title(\"l2 penalty\")\n",
    "        \n",
    "        \n",
    "    for ax,coefs in zip(axes_row,[coef_l1_lr,coef_en_lr,coef_l2_lr]):\n",
    "        ax.imshow(np.abs(coefs.reshape(8,8)),interpolation=\"nearest\",\n",
    "                 cmap=\"binary\",vmax=1,vmin=0)\n",
    "        ax.set_xticks(())\n",
    "        ax.set_yticks(())\n",
    "        \n",
    "    axes_row[0].set_ylabel(\"C = %s \"%C)\n",
    "    \n",
    "plt.show()"
   ]
  },
  {
   "cell_type": "code",
   "execution_count": null,
   "metadata": {},
   "outputs": [],
   "source": []
  }
 ],
 "metadata": {
  "kernelspec": {
   "display_name": "Python 3",
   "language": "python",
   "name": "python3"
  },
  "language_info": {
   "codemirror_mode": {
    "name": "ipython",
    "version": 3
   },
   "file_extension": ".py",
   "mimetype": "text/x-python",
   "name": "python",
   "nbconvert_exporter": "python",
   "pygments_lexer": "ipython3",
   "version": "3.7.4"
  }
 },
 "nbformat": 4,
 "nbformat_minor": 2
}
