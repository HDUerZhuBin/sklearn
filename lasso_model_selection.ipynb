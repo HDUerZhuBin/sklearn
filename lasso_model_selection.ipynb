{
 "cells": [
  {
   "cell_type": "code",
   "execution_count": 32,
   "metadata": {},
   "outputs": [
    {
     "name": "stdout",
     "output_type": "stream",
     "text": [
      "Automatically created module for IPython interactive environment\n"
     ]
    }
   ],
   "source": [
    "print(__doc__)\n",
    "\n",
    "import time\n",
    "import numpy as np\n",
    "import matplotlib.pyplot as plt\n",
    "\n",
    "from sklearn.linear_model import LassoCV,LassoLarsCV,LassoLarsIC\n",
    "from sklearn import datasets"
   ]
  },
  {
   "cell_type": "code",
   "execution_count": 33,
   "metadata": {},
   "outputs": [],
   "source": [
    "EPSILON = 1e-4"
   ]
  },
  {
   "cell_type": "code",
   "execution_count": 34,
   "metadata": {},
   "outputs": [],
   "source": [
    "diabetes = datasets.load_diabetes()"
   ]
  },
  {
   "cell_type": "code",
   "execution_count": 35,
   "metadata": {},
   "outputs": [],
   "source": [
    "data = diabetes.data\n",
    "values = diabetes.target"
   ]
  },
  {
   "cell_type": "code",
   "execution_count": 36,
   "metadata": {},
   "outputs": [],
   "source": [
    "rng = np.random.RandomState(42)\n",
    "data = np.c_[data,rng.randn(data.shape[0],14)]"
   ]
  },
  {
   "cell_type": "code",
   "execution_count": 37,
   "metadata": {},
   "outputs": [],
   "source": [
    "data /= np.sqrt(np.sum(data**2,axis=0))"
   ]
  },
  {
   "cell_type": "code",
   "execution_count": 38,
   "metadata": {},
   "outputs": [],
   "source": [
    "model_bic = LassoLarsIC(criterion=\"bic\")\n",
    "t1 = time.time()\n",
    "model_bic.fit(data,values)\n",
    "t_bic = time.time() - t1\n",
    "\n",
    "alpha_bic_ = model_bic.alpha_"
   ]
  },
  {
   "cell_type": "code",
   "execution_count": 39,
   "metadata": {},
   "outputs": [],
   "source": [
    "model_aic = LassoLarsIC(criterion=\"aic\")\n",
    "model_aic.fit(data,values)\n",
    "alpha_aic = model_aic.alpha_"
   ]
  },
  {
   "cell_type": "code",
   "execution_count": 42,
   "metadata": {},
   "outputs": [],
   "source": [
    "def plot_ic_criterion(model,name,color):\n",
    "    alpha_ = model.alpha_ + EPSILON\n",
    "    alphas_ = model.alphas_ + EPSILON\n",
    "    criterion_ = model.criterion_\n",
    "    \n",
    "    plt.plot(-np.log10(alphas_),criterion_,\"--\",color=color,\n",
    "            linewidth=3,label=\"%s criterion\" % name)\n",
    "    plt.axvline(-np.log10(alpha_),color=color,linewidth=3,\n",
    "               label=\"alpha:%s estimate\"% name)\n",
    "    plt.xlabel(\"-log(alpha)\")\n",
    "    plt.ylabel(\"criterion\")"
   ]
  },
  {
   "cell_type": "code",
   "execution_count": 43,
   "metadata": {},
   "outputs": [
    {
     "data": {
      "text/plain": [
       "Text(0.5, 1.0, 'information-criterion for model selection (training time 0.014s)')"
      ]
     },
     "execution_count": 43,
     "metadata": {},
     "output_type": "execute_result"
    },
    {
     "data": {
      "image/png": "[encoded data removed]",
      "text/plain": [
       "<Figure size 432x288 with 1 Axes>"
      ]
     },
     "metadata": {
      "needs_background": "light"
     },
     "output_type": "display_data"
    }
   ],
   "source": [
    "plt.figure()\n",
    "plot_ic_criterion(model_aic,\"aic\",\"b\")\n",
    "plot_ic_criterion(model_bic,\"bic\",\"r\")\n",
    "plt.legend()\n",
    "plt.title(\"information-criterion for model selection (training time %.3fs)\" % t_bic)"
   ]
  },
  {
   "cell_type": "markdown",
   "metadata": {},
   "source": [
    "# split line"
   ]
  },
  {
   "cell_type": "code",
   "execution_count": 44,
   "metadata": {},
   "outputs": [
    {
     "name": "stdout",
     "output_type": "stream",
     "text": [
      "computing regularization path using the coordinate descent lasso...\n"
     ]
    }
   ],
   "source": [
    "print(\"computing regularization path using the coordinate descent lasso...\")"
   ]
  },
  {
   "cell_type": "code",
   "execution_count": 46,
   "metadata": {},
   "outputs": [],
   "source": [
    "t1 = time.time()\n",
    "model = LassoCV(cv=20).fit(data,values)\n",
    "t_lasso_cv = time.time() - t1"
   ]
  },
  {
   "cell_type": "code",
   "execution_count": 48,
   "metadata": {},
   "outputs": [],
   "source": [
    "# display results\n",
    "m_log_alphas = -np.log10(model.alphas_ + EPSILON)"
   ]
  },
  {
   "cell_type": "code",
   "execution_count": 49,
   "metadata": {},
   "outputs": [
    {
     "data": {
      "text/plain": [
       "<Figure size 432x288 with 0 Axes>"
      ]
     },
     "metadata": {},
     "output_type": "display_data"
    }
   ],
   "source": [
    "plt.figure()\n",
    "ymin,ymax = 2300,3800"
   ]
  },
  {
   "cell_type": "code",
   "execution_count": 51,
   "metadata": {},
   "outputs": [
    {
     "data": {
      "text/plain": [
       "array([-3.32063305e-01, -3.01761736e-01, -2.71460272e-01, -2.41158922e-01,\n",
       "       -2.10857692e-01, -1.80556594e-01, -1.50255634e-01, -1.19954824e-01,\n",
       "       -8.96541752e-02, -5.93536980e-02, -2.90534053e-02,  1.24668957e-03,\n",
       "        3.15465723e-02,  6.18462277e-02,  9.21456391e-02,  1.22444789e-01,\n",
       "        1.52743659e-01,  1.83042228e-01,  2.13340474e-01,  2.43638375e-01,\n",
       "        2.73935905e-01,  3.04233038e-01,  3.34529745e-01,  3.64825995e-01,\n",
       "        3.95121755e-01,  4.25416990e-01,  4.55711662e-01,  4.86005729e-01,\n",
       "        5.16299150e-01,  5.46591876e-01,  5.76883857e-01,  6.07175041e-01,\n",
       "        6.37465368e-01,  6.67754778e-01,  6.98043205e-01,  7.28330576e-01,\n",
       "        7.58616816e-01,  7.88901844e-01,  8.19185572e-01,  8.49467905e-01,\n",
       "        8.79748744e-01,  9.10027981e-01,  9.40305500e-01,  9.70581176e-01,\n",
       "        1.00085488e+00,  1.03112646e+00,  1.06139578e+00,  1.09166266e+00,\n",
       "        1.12192693e+00,  1.15218840e+00,  1.18244688e+00,  1.21270214e+00,\n",
       "        1.24295395e+00,  1.27320207e+00,  1.30344623e+00,  1.33368615e+00,\n",
       "        1.36392151e+00,  1.39415200e+00,  1.42437725e+00,  1.45459690e+00,\n",
       "        1.48481055e+00,  1.51501775e+00,  1.54521805e+00,  1.57541095e+00,\n",
       "        1.60559593e+00,  1.63577241e+00,  1.66593979e+00,  1.69609741e+00,\n",
       "        1.72624458e+00,  1.75638054e+00,  1.78650451e+00,  1.81661561e+00,\n",
       "        1.84671294e+00,  1.87679551e+00,  1.90686227e+00,  1.93691210e+00,\n",
       "        1.96694380e+00,  1.99695608e+00,  2.02694756e+00,  2.05691678e+00,\n",
       "        2.08686215e+00,  2.11678201e+00,  2.14667455e+00,  2.17653785e+00,\n",
       "        2.20636988e+00,  2.23616843e+00,  2.26593117e+00,  2.29565562e+00,\n",
       "        2.32533910e+00,  2.35497880e+00,  2.38457168e+00,  2.41411453e+00,\n",
       "        2.44360392e+00,  2.47303620e+00,  2.50240748e+00,  2.53171365e+00,\n",
       "        2.56095032e+00,  2.59011282e+00,  2.61919622e+00,  2.64819527e+00])"
      ]
     },
     "execution_count": 51,
     "metadata": {},
     "output_type": "execute_result"
    }
   ],
   "source": [
    "m_log_alphas"
   ]
  },
  {
   "cell_type": "code",
   "execution_count": null,
   "metadata": {},
   "outputs": [],
   "source": []
  }
 ],
 "metadata": {
  "kernelspec": {
   "display_name": "Python 3",
   "language": "python",
   "name": "python3"
  },
  "language_info": {
   "codemirror_mode": {
    "name": "ipython",
    "version": 3
   },
   "file_extension": ".py",
   "mimetype": "text/x-python",
   "name": "python",
   "nbconvert_exporter": "python",
   "pygments_lexer": "ipython3",
   "version": "3.7.4"
  }
 },
 "nbformat": 4,
 "nbformat_minor": 2
}
