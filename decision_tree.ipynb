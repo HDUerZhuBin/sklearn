{
 "cells": [
  {
   "cell_type": "code",
   "execution_count": 97,
   "metadata": {},
   "outputs": [],
   "source": [
    "import numpy as np\n",
    "import pandas as pd\n",
    "\n",
    "import matplotlib.pyplot as plt"
   ]
  },
  {
   "cell_type": "code",
   "execution_count": 98,
   "metadata": {},
   "outputs": [],
   "source": [
    "# load the dataset\n",
    "filename = \"../100-Days-Of-ML-Code/datasets/Social_Network_Ads.csv\"\n",
    "\n",
    "dataset = pd.read_csv(filepath_or_buffer=filename)\n",
    "data = dataset.iloc[:,[2,3]].values #load the features(column2 and 3)\n",
    "labels = dataset.iloc[:,-1].values #load the labels"
   ]
  },
  {
   "cell_type": "code",
   "execution_count": 99,
   "metadata": {},
   "outputs": [],
   "source": [
    "# split the dataset into train and split sets\n",
    "from sklearn.model_selection import train_test_split\n",
    "\n",
    "test_size = 0.25\n",
    "random_state = 0\n",
    "train_data,test_data,train_labels,test_labels = train_test_split(data,labels,\n",
    "                                                                test_size = test_size,\n",
    "                                                                random_state = random_state)"
   ]
  },
  {
   "cell_type": "code",
   "execution_count": 100,
   "metadata": {},
   "outputs": [],
   "source": [
    "# scale the dataset,train with the train_set\n",
    "from sklearn.preprocessing import StandardScaler\n",
    "std_ins = StandardScaler()\n",
    "train_data = std_ins.fit_transform(train_data)\n",
    "\n",
    "test_data = std_ins.transform(test_data)"
   ]
  },
  {
   "cell_type": "code",
   "execution_count": 101,
   "metadata": {},
   "outputs": [],
   "source": [
    "# load the decision_tree\n",
    "from sklearn.tree import DecisionTreeClassifier\n",
    "\n",
    "\n",
    "# construct the model\n",
    "criterion = \"entropy\"\n",
    "random_state = 2019\n",
    "model = DecisionTreeClassifier(criterion=criterion,\n",
    "                              random_state=random_state)\n",
    "\n",
    "# train the model\n",
    "model.fit(train_data,train_labels)\n",
    "\n",
    "# test with the model\n",
    "y_pred = model.predict(test_data)"
   ]
  },
  {
   "cell_type": "code",
   "execution_count": 102,
   "metadata": {},
   "outputs": [],
   "source": [
    "# envalue the ret with the confusion matrix\n",
    "from sklearn.metrics import confusion_matrix\n",
    "\n",
    "C_matrix = confusion_matrix(y_true=test_labels,\n",
    "                           y_pred=y_pred)"
   ]
  },
  {
   "cell_type": "code",
   "execution_count": 103,
   "metadata": {},
   "outputs": [
    {
     "data": {
      "text/plain": [
       "array([[62,  6],\n",
       "       [ 3, 29]])"
      ]
     },
     "execution_count": 103,
     "metadata": {},
     "output_type": "execute_result"
    }
   ],
   "source": [
    "C_matrix"
   ]
  },
  {
   "cell_type": "code",
   "execution_count": null,
   "metadata": {},
   "outputs": [],
   "source": []
  }
 ],
 "metadata": {
  "kernelspec": {
   "display_name": "Python 3",
   "language": "python",
   "name": "python3"
  },
  "language_info": {
   "codemirror_mode": {
    "name": "ipython",
    "version": 3
   },
   "file_extension": ".py",
   "mimetype": "text/x-python",
   "name": "python",
   "nbconvert_exporter": "python",
   "pygments_lexer": "ipython3",
   "version": "3.7.4"
  }
 },
 "nbformat": 4,
 "nbformat_minor": 2
}
